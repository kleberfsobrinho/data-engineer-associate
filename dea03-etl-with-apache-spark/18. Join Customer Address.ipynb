{
 "cells": [
  {
   "cell_type": "markdown",
   "metadata": {
    "application/vnd.databricks.v1+cell": {
     "cellMetadata": {},
     "inputWidgets": {},
     "nuid": "617b9bc4-f723-425e-80f0-0a8c4e615e7a",
     "showTitle": false,
     "tableResultSettingsMap": {},
     "title": ""
    }
   },
   "source": [
    "## Join Customer and Address\n",
    "Join customer data with address data to create a customer_address table which contains the address of each customer on the same record"
   ]
  },
  {
   "cell_type": "code",
   "execution_count": 0,
   "metadata": {
    "application/vnd.databricks.v1+cell": {
     "cellMetadata": {
      "byteLimit": 2048000,
      "rowLimit": 10000
     },
     "inputWidgets": {},
     "nuid": "61d19b9f-0c3a-4c29-8341-3c1e7bc36bd5",
     "showTitle": false,
     "tableResultSettingsMap": {},
     "title": ""
    }
   },
   "outputs": [],
   "source": [
    "SELECT * FROM gizmobox.silver.customers;"
   ]
  },
  {
   "cell_type": "code",
   "execution_count": 0,
   "metadata": {
    "application/vnd.databricks.v1+cell": {
     "cellMetadata": {
      "byteLimit": 2048000,
      "rowLimit": 10000
     },
     "inputWidgets": {},
     "nuid": "ff4099a0-90cc-4d8b-9892-c88642d89332",
     "showTitle": false,
     "tableResultSettingsMap": {},
     "title": ""
    }
   },
   "outputs": [],
   "source": [
    "SELECT * FROM gizmobox.silver.addresses;"
   ]
  },
  {
   "cell_type": "code",
   "execution_count": 0,
   "metadata": {
    "application/vnd.databricks.v1+cell": {
     "cellMetadata": {
      "byteLimit": 2048000,
      "rowLimit": 10000
     },
     "inputWidgets": {},
     "nuid": "9767346e-8e5b-4405-a64f-ca7bbc65b60b",
     "showTitle": false,
     "tableResultSettingsMap": {},
     "title": ""
    }
   },
   "outputs": [],
   "source": [
    "SELECT \n",
    "  c.customer_id,\n",
    "  c.customer_name,\n",
    "  c.email,\n",
    "  c.date_of_birth,\n",
    "  c.member_since,\n",
    "  c.telephone,\n",
    "  a.shipping_address_line_1,\n",
    "  a.shipping_city,\n",
    "  a.shipping_state,\n",
    "  a.shipping_postcode,\n",
    "  a.billing_address_line_1,\n",
    "  a.billing_city,\n",
    "  a.billing_state,\n",
    "  a.billing_postcode\n",
    "FROM gizmobox.silver.customers c\n",
    "JOIN gizmobox.silver.addresses a\n",
    "ON c.customer_id = a.customer_id;"
   ]
  },
  {
   "cell_type": "code",
   "execution_count": 0,
   "metadata": {
    "application/vnd.databricks.v1+cell": {
     "cellMetadata": {
      "byteLimit": 2048000,
      "rowLimit": 10000
     },
     "inputWidgets": {},
     "nuid": "b5529c6a-36d8-4938-9869-93641d23fccd",
     "showTitle": false,
     "tableResultSettingsMap": {},
     "title": ""
    }
   },
   "outputs": [],
   "source": [
    "CREATE TABLE IF NOT EXISTS gizmobox.gold.customer_address \n",
    "AS\n",
    "SELECT \n",
    "  c.customer_id,\n",
    "  c.customer_name,\n",
    "  c.email,\n",
    "  c.date_of_birth,\n",
    "  c.member_since,\n",
    "  c.telephone,\n",
    "  a.shipping_address_line_1,\n",
    "  a.shipping_city,\n",
    "  a.shipping_state,\n",
    "  a.shipping_postcode,\n",
    "  a.billing_address_line_1,\n",
    "  a.billing_city,\n",
    "  a.billing_state,\n",
    "  a.billing_postcode\n",
    "FROM gizmobox.silver.customers c\n",
    "JOIN gizmobox.silver.addresses a\n",
    "ON c.customer_id = a.customer_id;"
   ]
  },
  {
   "cell_type": "code",
   "execution_count": 0,
   "metadata": {
    "application/vnd.databricks.v1+cell": {
     "cellMetadata": {
      "byteLimit": 2048000,
      "rowLimit": 10000
     },
     "inputWidgets": {},
     "nuid": "f29380f1-8844-45cc-b4af-bc8dc115a77c",
     "showTitle": false,
     "tableResultSettingsMap": {},
     "title": ""
    }
   },
   "outputs": [],
   "source": [
    "SELECT * FROM gizmobox.gold.customer_address;"
   ]
  },
  {
   "cell_type": "code",
   "execution_count": 0,
   "metadata": {
    "application/vnd.databricks.v1+cell": {
     "cellMetadata": {},
     "inputWidgets": {},
     "nuid": "e4627af3-9cd2-4345-a14f-6ab3f182ba85",
     "showTitle": false,
     "tableResultSettingsMap": {},
     "title": ""
    }
   },
   "outputs": [],
   "source": []
  }
 ],
 "metadata": {
  "application/vnd.databricks.v1+notebook": {
   "computePreferences": null,
   "dashboards": [],
   "environmentMetadata": {
    "base_environment": "",
    "environment_version": "2"
   },
   "inputWidgetPreferences": null,
   "language": "sql",
   "notebookMetadata": {
    "pythonIndentUnit": 4
   },
   "notebookName": "18. Join Customer Address",
   "widgets": {}
  },
  "language_info": {
   "name": "sql"
  }
 },
 "nbformat": 4,
 "nbformat_minor": 0
}
