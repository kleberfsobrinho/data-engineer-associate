{
 "cells": [
  {
   "cell_type": "markdown",
   "metadata": {
    "application/vnd.databricks.v1+cell": {
     "cellMetadata": {},
     "inputWidgets": {},
     "nuid": "0e193dea-f6e0-4006-a597-3fb53f69e61c",
     "showTitle": false,
     "tableResultSettingsMap": {},
     "title": ""
    }
   },
   "source": [
    "## Transform Orders Data - Explode Arrays\n",
    "1. Access elements from the JSON object\n",
    "1. Deduplicate Array Elements\n",
    "1. Explode Arrays\n",
    "1. Write the Transformed Data to Silver Schema"
   ]
  },
  {
   "cell_type": "code",
   "execution_count": 0,
   "metadata": {
    "application/vnd.databricks.v1+cell": {
     "cellMetadata": {
      "byteLimit": 2048000,
      "rowLimit": 10000
     },
     "inputWidgets": {},
     "nuid": "af5248aa-7e0a-4c6a-ae1d-79c159e43537",
     "showTitle": false,
     "tableResultSettingsMap": {},
     "title": ""
    }
   },
   "outputs": [],
   "source": [
    "SELECT * FROM gizmobox.silver.orders_json;"
   ]
  },
  {
   "cell_type": "markdown",
   "metadata": {
    "application/vnd.databricks.v1+cell": {
     "cellMetadata": {},
     "inputWidgets": {},
     "nuid": "8d97f025-72c7-4829-ac26-3463106afe07",
     "showTitle": false,
     "tableResultSettingsMap": {},
     "title": ""
    }
   },
   "source": [
    "### 1. Access elements from the JSON object\n",
    "`<column_name.object>`"
   ]
  },
  {
   "cell_type": "code",
   "execution_count": 0,
   "metadata": {
    "application/vnd.databricks.v1+cell": {
     "cellMetadata": {
      "byteLimit": 2048000,
      "rowLimit": 10000
     },
     "inputWidgets": {},
     "nuid": "3128094b-4190-4847-882c-aacd413d027c",
     "showTitle": false,
     "tableResultSettingsMap": {},
     "title": ""
    }
   },
   "outputs": [],
   "source": [
    "SELECT json_value.order_id,\n",
    "       json_value.order_status,\n",
    "       json_value.payment_method,\n",
    "       json_value.total_amount,\n",
    "       json_value.transaction_timestamp,\n",
    "       json_value.customer_id,\n",
    "       json_value.items\n",
    "FROM gizmobox.silver.orders_json;"
   ]
  },
  {
   "cell_type": "markdown",
   "metadata": {
    "application/vnd.databricks.v1+cell": {
     "cellMetadata": {},
     "inputWidgets": {},
     "nuid": "51778860-8c84-495e-98ef-8c480b9c0f85",
     "showTitle": false,
     "tableResultSettingsMap": {},
     "title": ""
    }
   },
   "source": [
    "### 2. Deduplicate Array Elements\n",
    "Function [array_distinct](https://learn.microsoft.com/en-us/azure/databricks/sql/language-manual/functions/array_distinct)"
   ]
  },
  {
   "cell_type": "code",
   "execution_count": 0,
   "metadata": {
    "application/vnd.databricks.v1+cell": {
     "cellMetadata": {
      "byteLimit": 2048000,
      "rowLimit": 10000
     },
     "inputWidgets": {},
     "nuid": "f3574b86-ea36-425f-bc36-b1d7adacc8ab",
     "showTitle": false,
     "tableResultSettingsMap": {},
     "title": ""
    }
   },
   "outputs": [],
   "source": [
    "SELECT json_value.order_id,\n",
    "       json_value.order_status,\n",
    "       json_value.payment_method,\n",
    "       json_value.total_amount,\n",
    "       json_value.transaction_timestamp,\n",
    "       json_value.customer_id,\n",
    "       array_distinct(json_value.items) AS items\n",
    "FROM gizmobox.silver.orders_json;"
   ]
  },
  {
   "cell_type": "markdown",
   "metadata": {
    "application/vnd.databricks.v1+cell": {
     "cellMetadata": {},
     "inputWidgets": {},
     "nuid": "1ed4fcdd-37a1-4f77-a681-a2deeb48f0b0",
     "showTitle": false,
     "tableResultSettingsMap": {},
     "title": ""
    }
   },
   "source": [
    "### 3. Explode Arrays\n",
    "Function [explode](https://learn.microsoft.com/en-us/azure/databricks/sql/language-manual/functions/explode)"
   ]
  },
  {
   "cell_type": "code",
   "execution_count": 0,
   "metadata": {
    "application/vnd.databricks.v1+cell": {
     "cellMetadata": {
      "byteLimit": 2048000,
      "rowLimit": 10000
     },
     "inputWidgets": {},
     "nuid": "5c4796ba-ef33-4a39-b4ce-a2bb6d950ec8",
     "showTitle": false,
     "tableResultSettingsMap": {},
     "title": ""
    }
   },
   "outputs": [],
   "source": [
    "CREATE OR REPLACE TEMP VIEW orders_exploded\n",
    "AS\n",
    "SELECT json_value.order_id,\n",
    "       json_value.order_status,\n",
    "       json_value.payment_method,\n",
    "       json_value.total_amount,\n",
    "       json_value.transaction_timestamp,\n",
    "       json_value.customer_id,\n",
    "       explode(array_distinct(json_value.items)) AS item\n",
    "FROM gizmobox.silver.orders_json;"
   ]
  },
  {
   "cell_type": "code",
   "execution_count": 0,
   "metadata": {
    "application/vnd.databricks.v1+cell": {
     "cellMetadata": {
      "byteLimit": 2048000,
      "rowLimit": 10000
     },
     "inputWidgets": {},
     "nuid": "1e2c936b-63db-4cdf-b07e-66efafa5262d",
     "showTitle": false,
     "tableResultSettingsMap": {},
     "title": ""
    }
   },
   "outputs": [],
   "source": [
    "SELECT \n",
    "  order_id,\n",
    "  order_status,\n",
    "  payment_method,\n",
    "  total_amount,\n",
    "  transaction_timestamp,\n",
    "  customer_id,\n",
    "  item.item_id,\n",
    "  item.name,\n",
    "  item.price,\n",
    "  item.quantity,\n",
    "  item.category,\n",
    "  item.details.brand,\n",
    "  item.details.color\n",
    "FROM orders_exploded;"
   ]
  },
  {
   "cell_type": "markdown",
   "metadata": {
    "application/vnd.databricks.v1+cell": {
     "cellMetadata": {},
     "inputWidgets": {},
     "nuid": "b1300948-30d0-4964-baeb-ab7e387ccfb4",
     "showTitle": false,
     "tableResultSettingsMap": {},
     "title": ""
    }
   },
   "source": [
    "### 4. Write the Transformed Data to Silver Schema"
   ]
  },
  {
   "cell_type": "code",
   "execution_count": 0,
   "metadata": {
    "application/vnd.databricks.v1+cell": {
     "cellMetadata": {
      "byteLimit": 2048000,
      "rowLimit": 10000
     },
     "inputWidgets": {},
     "nuid": "03ac3482-ac1b-4d52-b6cb-56f116982a38",
     "showTitle": false,
     "tableResultSettingsMap": {},
     "title": ""
    }
   },
   "outputs": [],
   "source": [
    "CREATE TABLE IF NOT EXISTS gizmobox.silver.orders\n",
    "AS\n",
    "SELECT \n",
    "  order_id,\n",
    "  order_status,\n",
    "  payment_method,\n",
    "  total_amount,\n",
    "  transaction_timestamp,\n",
    "  customer_id,\n",
    "  item.item_id,\n",
    "  item.name,\n",
    "  item.price,\n",
    "  item.quantity,\n",
    "  item.category,\n",
    "  item.details.brand,\n",
    "  item.details.color\n",
    "FROM orders_exploded;"
   ]
  },
  {
   "cell_type": "code",
   "execution_count": 0,
   "metadata": {
    "application/vnd.databricks.v1+cell": {
     "cellMetadata": {
      "byteLimit": 2048000,
      "rowLimit": 10000
     },
     "inputWidgets": {},
     "nuid": "ddd0f0c9-624b-4da4-8d77-cee9d08b5f4b",
     "showTitle": false,
     "tableResultSettingsMap": {},
     "title": ""
    }
   },
   "outputs": [],
   "source": [
    "SELECT * FROM gizmobox.silver.orders;"
   ]
  },
  {
   "cell_type": "code",
   "execution_count": 0,
   "metadata": {
    "application/vnd.databricks.v1+cell": {
     "cellMetadata": {},
     "inputWidgets": {},
     "nuid": "92f3f90d-686c-4e98-9641-0f186c11cbef",
     "showTitle": false,
     "tableResultSettingsMap": {},
     "title": ""
    }
   },
   "outputs": [],
   "source": []
  }
 ],
 "metadata": {
  "application/vnd.databricks.v1+notebook": {
   "computePreferences": null,
   "dashboards": [],
   "environmentMetadata": {
    "base_environment": "",
    "environment_version": "2"
   },
   "inputWidgetPreferences": null,
   "language": "sql",
   "notebookMetadata": {
    "pythonIndentUnit": 4
   },
   "notebookName": "17. Transform Orders Data - Explode Arrays",
   "widgets": {}
  },
  "language_info": {
   "name": "sql"
  }
 },
 "nbformat": 4,
 "nbformat_minor": 0
}
