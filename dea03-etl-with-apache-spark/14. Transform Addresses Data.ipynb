{
 "cells": [
  {
   "cell_type": "markdown",
   "metadata": {
    "application/vnd.databricks.v1+cell": {
     "cellMetadata": {},
     "inputWidgets": {},
     "nuid": "278faa4e-c5ce-48ec-a6a9-6c0e5dd1637d",
     "showTitle": false,
     "tableResultSettingsMap": {},
     "title": ""
    }
   },
   "source": [
    "## Transform Addresses Data\n",
    "1. Create one record for each customer with 2 sets of address columns, 1 for shipping and 1 for billing address \n",
    "1. Write transformed data to the Silver schema  "
   ]
  },
  {
   "cell_type": "code",
   "execution_count": 0,
   "metadata": {
    "application/vnd.databricks.v1+cell": {
     "cellMetadata": {
      "byteLimit": 2048000,
      "rowLimit": 10000
     },
     "inputWidgets": {},
     "nuid": "7b358889-1157-432e-ae64-7f0ca3ea4b7b",
     "showTitle": false,
     "tableResultSettingsMap": {},
     "title": ""
    }
   },
   "outputs": [],
   "source": [
    "SELECT customer_id,\n",
    "       address_type,\n",
    "       address_line_1,\n",
    "       city,\n",
    "       state,\n",
    "       postcode\n",
    "  FROM gizmobox.bronze.v_addresses;"
   ]
  },
  {
   "cell_type": "markdown",
   "metadata": {
    "application/vnd.databricks.v1+cell": {
     "cellMetadata": {},
     "inputWidgets": {},
     "nuid": "5d30d25e-a726-49f3-9c35-3b6ade29be4c",
     "showTitle": false,
     "tableResultSettingsMap": {},
     "title": ""
    }
   },
   "source": [
    "### 1. Create one record for each customer with both addresses, one for each address_type\n",
    "> [Documentation for PIVOT clause](https://learn.microsoft.com/en-us/azure/databricks/sql/language-manual/sql-ref-syntax-qry-select-pivot)"
   ]
  },
  {
   "cell_type": "code",
   "execution_count": 0,
   "metadata": {
    "application/vnd.databricks.v1+cell": {
     "cellMetadata": {
      "byteLimit": 2048000,
      "rowLimit": 10000
     },
     "inputWidgets": {},
     "nuid": "d7afb98c-27a2-4b81-beed-b2ba6a720a61",
     "showTitle": false,
     "tableResultSettingsMap": {},
     "title": ""
    }
   },
   "outputs": [],
   "source": [
    "SELECT *\n",
    "FROM (\n",
    "  SELECT \n",
    "        customer_id,\n",
    "        address_type,\n",
    "        address_line_1,\n",
    "        city,\n",
    "        state,\n",
    "        postcode\n",
    "  FROM gizmobox.bronze.v_addresses)\n",
    "PIVOT (MAX(address_line_1) AS address_line_1,\n",
    "      MAX(city) AS city,\n",
    "      MAX(state) AS state,\n",
    "      MAX(postcode) AS postcode\n",
    "      FOR address_type IN ('billing', 'shipping'));"
   ]
  },
  {
   "cell_type": "markdown",
   "metadata": {
    "application/vnd.databricks.v1+cell": {
     "cellMetadata": {},
     "inputWidgets": {},
     "nuid": "69d883c3-6b75-4ddc-93d6-d373f57cd21a",
     "showTitle": false,
     "tableResultSettingsMap": {},
     "title": ""
    }
   },
   "source": [
    "### 2. Write transformed data to the Silver schema "
   ]
  },
  {
   "cell_type": "code",
   "execution_count": 0,
   "metadata": {
    "application/vnd.databricks.v1+cell": {
     "cellMetadata": {
      "byteLimit": 2048000,
      "rowLimit": 10000
     },
     "inputWidgets": {},
     "nuid": "274f2174-ca1d-495c-bae8-97217369f2ec",
     "showTitle": false,
     "tableResultSettingsMap": {},
     "title": ""
    }
   },
   "outputs": [],
   "source": [
    "CREATE TABLE gizmobox.silver.addresses\n",
    "AS\n",
    "  SELECT *\n",
    "  FROM (\n",
    "    SELECT \n",
    "          customer_id,\n",
    "          address_type,\n",
    "          address_line_1,\n",
    "          city,\n",
    "          state,\n",
    "          postcode\n",
    "    FROM gizmobox.bronze.v_addresses)\n",
    "  PIVOT (MAX(address_line_1) AS address_line_1,\n",
    "        MAX(city) AS city,\n",
    "        MAX(state) AS state,\n",
    "        MAX(postcode) AS postcode\n",
    "        FOR address_type IN ('billing', 'shipping'));"
   ]
  },
  {
   "cell_type": "code",
   "execution_count": 0,
   "metadata": {
    "application/vnd.databricks.v1+cell": {
     "cellMetadata": {
      "byteLimit": 2048000,
      "rowLimit": 10000
     },
     "inputWidgets": {},
     "nuid": "c72366ad-fa5e-4ce0-a6d2-ed9388e2a93b",
     "showTitle": false,
     "tableResultSettingsMap": {},
     "title": ""
    }
   },
   "outputs": [],
   "source": [
    "SELECT *\n",
    "FROM gizmobox.silver.addresses;"
   ]
  },
  {
   "cell_type": "code",
   "execution_count": 0,
   "metadata": {
    "application/vnd.databricks.v1+cell": {
     "cellMetadata": {},
     "inputWidgets": {},
     "nuid": "ad9916f7-eb1d-4d5f-a497-1c23908baf1b",
     "showTitle": false,
     "tableResultSettingsMap": {},
     "title": ""
    }
   },
   "outputs": [],
   "source": []
  }
 ],
 "metadata": {
  "application/vnd.databricks.v1+notebook": {
   "computePreferences": null,
   "dashboards": [],
   "environmentMetadata": {
    "base_environment": "",
    "environment_version": "2"
   },
   "inputWidgetPreferences": null,
   "language": "sql",
   "notebookMetadata": {
    "pythonIndentUnit": 4
   },
   "notebookName": "14. Transform Addresses Data",
   "widgets": {}
  },
  "language_info": {
   "name": "sql"
  }
 },
 "nbformat": 4,
 "nbformat_minor": 0
}
