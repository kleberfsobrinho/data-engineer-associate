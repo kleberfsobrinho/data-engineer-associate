{
 "cells": [
  {
   "cell_type": "markdown",
   "metadata": {
    "application/vnd.databricks.v1+cell": {
     "cellMetadata": {},
     "inputWidgets": {},
     "nuid": "260d341a-edca-4552-88c2-53a0fa42c448",
     "showTitle": false,
     "tableResultSettingsMap": {},
     "title": ""
    }
   },
   "source": [
    "## Transform Refunds Data\n",
    "1. Extract specific portion of the string from refund_reason using split function\n",
    "1. Extract specific portion of the string from refund_reason using regexp_extract function\n",
    "1. Extract date and time from the refund_timestamp\n",
    "1. Write transformed data to the Silver schema in hive metastore [Default Location: /user/hive/warehouse]"
   ]
  },
  {
   "cell_type": "code",
   "execution_count": 0,
   "metadata": {
    "application/vnd.databricks.v1+cell": {
     "cellMetadata": {
      "byteLimit": 2048000,
      "rowLimit": 10000
     },
     "inputWidgets": {},
     "nuid": "a3f11770-d43c-42de-b1d2-1b361d10820d",
     "showTitle": false,
     "tableResultSettingsMap": {},
     "title": ""
    }
   },
   "outputs": [],
   "source": [
    "SELECT refund_id,\n",
    "       payment_id,\n",
    "       refund_timestamp,\n",
    "       refund_amount,\n",
    "       refund_reason\n",
    "from hive_metastore.bronze.refunds;"
   ]
  },
  {
   "cell_type": "markdown",
   "metadata": {
    "application/vnd.databricks.v1+cell": {
     "cellMetadata": {},
     "inputWidgets": {},
     "nuid": "40351eba-d1a5-4638-9737-a1257d8f2949",
     "showTitle": false,
     "tableResultSettingsMap": {},
     "title": ""
    }
   },
   "source": [
    "### 1. Extract specific portion of the string from refund_reason using split function\n",
    "> [Documentation for split Function](https://learn.microsoft.com/en-us/azure/databricks/sql/language-manual/functions/split)"
   ]
  },
  {
   "cell_type": "code",
   "execution_count": 0,
   "metadata": {
    "application/vnd.databricks.v1+cell": {
     "cellMetadata": {
      "byteLimit": 2048000,
      "rowLimit": 10000
     },
     "inputWidgets": {},
     "nuid": "94b08d9b-2cb2-4bce-8b30-5eb4f2961d50",
     "showTitle": false,
     "tableResultSettingsMap": {},
     "title": ""
    }
   },
   "outputs": [],
   "source": [
    "SELECT refund_id,\n",
    "       payment_id,\n",
    "       refund_timestamp,\n",
    "       refund_amount,\n",
    "       SPLIT(refund_reason, \":\")[0] AS refund_reason,\n",
    "       SPLIT(refund_reason, \":\")[1] AS refund_source\n",
    "from hive_metastore.bronze.refunds;"
   ]
  },
  {
   "cell_type": "markdown",
   "metadata": {
    "application/vnd.databricks.v1+cell": {
     "cellMetadata": {},
     "inputWidgets": {},
     "nuid": "2d572ec4-c9b0-4050-b8bd-f2aae13f16d4",
     "showTitle": false,
     "tableResultSettingsMap": {},
     "title": ""
    }
   },
   "source": [
    "### 2. Extract specific portion of the string from refund_reason using regexp_extract function\n",
    "> [Documentation for regexp_extract Function](https://learn.microsoft.com/en-us/azure/databricks/sql/language-manual/functions/regexp_extract)  \n",
    "> [Regex Pattern](https://docs.oracle.com/javase/7/docs/api/java/util/regex/Pattern.html)"
   ]
  },
  {
   "cell_type": "code",
   "execution_count": 0,
   "metadata": {
    "application/vnd.databricks.v1+cell": {
     "cellMetadata": {
      "byteLimit": 2048000,
      "rowLimit": 10000
     },
     "inputWidgets": {},
     "nuid": "653a3d87-e1ec-47c3-aa08-4657fcc9e1f6",
     "showTitle": false,
     "tableResultSettingsMap": {},
     "title": ""
    }
   },
   "outputs": [],
   "source": [
    "SELECT refund_id,\n",
    "       payment_id,\n",
    "       CAST(date_format(refund_timestamp, 'yyyy-MM-dd') AS DATE) AS refund_date,\n",
    "       date_format(refund_timestamp, 'HH:mm:ss') AS refund_time,\n",
    "       refund_amount,\n",
    "       regexp_extract(refund_reason, '^([^:]+):', 1) AS refund_reason,\n",
    "       regexp_extract(refund_reason, '^[^:]+:(.*)$', 1) AS refund_source\n",
    "  FROM hive_metastore.bronze.refunds;"
   ]
  },
  {
   "cell_type": "markdown",
   "metadata": {
    "application/vnd.databricks.v1+cell": {
     "cellMetadata": {},
     "inputWidgets": {},
     "nuid": "e6192994-4224-41dd-8c33-f06ddbe01de6",
     "showTitle": false,
     "tableResultSettingsMap": {},
     "title": ""
    }
   },
   "source": [
    "### 3. Write transformed data to the Silver schema  "
   ]
  },
  {
   "cell_type": "code",
   "execution_count": 0,
   "metadata": {
    "application/vnd.databricks.v1+cell": {
     "cellMetadata": {
      "byteLimit": 2048000,
      "rowLimit": 10000
     },
     "inputWidgets": {},
     "nuid": "6a8eb31a-f3f8-4ba2-b816-d1c9141a2054",
     "showTitle": false,
     "tableResultSettingsMap": {},
     "title": ""
    }
   },
   "outputs": [],
   "source": [
    "CREATE SCHEMA hive_metastore.silver;"
   ]
  },
  {
   "cell_type": "code",
   "execution_count": 0,
   "metadata": {
    "application/vnd.databricks.v1+cell": {
     "cellMetadata": {
      "byteLimit": 2048000,
      "rowLimit": 10000
     },
     "inputWidgets": {},
     "nuid": "0ec88f84-e597-4c65-8174-24f80956f6b1",
     "showTitle": false,
     "tableResultSettingsMap": {},
     "title": ""
    }
   },
   "outputs": [],
   "source": [
    "CREATE TABLE hive_metastore.silver.refunds AS\n",
    "SELECT refund_id,\n",
    "       payment_id,\n",
    "       CAST(date_format(refund_timestamp, 'yyyy-MM-dd') AS DATE) AS refund_date,\n",
    "       date_format(refund_timestamp, 'HH:mm:ss') AS refund_time,\n",
    "       refund_amount,\n",
    "       regexp_extract(refund_reason, '^([^:]+):', 1) AS refund_reason,\n",
    "       regexp_extract(refund_reason, '^[^:]+:(.*)$', 1) AS refund_source\n",
    "FROM hive_metastore.bronze.refunds;"
   ]
  },
  {
   "cell_type": "code",
   "execution_count": 0,
   "metadata": {
    "application/vnd.databricks.v1+cell": {
     "cellMetadata": {
      "byteLimit": 2048000,
      "rowLimit": 10000
     },
     "inputWidgets": {},
     "nuid": "227f1c15-4bad-452a-9b85-5f50a0978ab3",
     "showTitle": false,
     "tableResultSettingsMap": {},
     "title": ""
    }
   },
   "outputs": [],
   "source": [
    "SELECT * FROM hive_metastore.silver.refunds;"
   ]
  },
  {
   "cell_type": "code",
   "execution_count": 0,
   "metadata": {
    "application/vnd.databricks.v1+cell": {
     "cellMetadata": {
      "byteLimit": 2048000,
      "rowLimit": 10000
     },
     "inputWidgets": {},
     "nuid": "9f5a3bba-516a-4f8d-be19-f9c2ddb69974",
     "showTitle": false,
     "tableResultSettingsMap": {},
     "title": ""
    }
   },
   "outputs": [],
   "source": [
    "DESCRIBE EXTENDED hive_metastore.silver.refunds;"
   ]
  },
  {
   "cell_type": "code",
   "execution_count": 0,
   "metadata": {
    "application/vnd.databricks.v1+cell": {
     "cellMetadata": {},
     "inputWidgets": {},
     "nuid": "6e0b1b4b-2f78-42e8-aca3-f4e915620e1a",
     "showTitle": false,
     "tableResultSettingsMap": {},
     "title": ""
    }
   },
   "outputs": [],
   "source": []
  }
 ],
 "metadata": {
  "application/vnd.databricks.v1+notebook": {
   "computePreferences": null,
   "dashboards": [],
   "environmentMetadata": {
    "base_environment": "",
    "environment_version": "2"
   },
   "inputWidgetPreferences": null,
   "language": "sql",
   "notebookMetadata": {},
   "notebookName": "12. Transform Refunds Data",
   "widgets": {}
  },
  "language_info": {
   "name": "sql"
  }
 },
 "nbformat": 4,
 "nbformat_minor": 0
}
