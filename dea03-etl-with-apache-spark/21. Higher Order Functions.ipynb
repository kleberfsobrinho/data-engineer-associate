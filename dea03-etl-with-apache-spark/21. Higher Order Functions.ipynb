{
 "cells": [
  {
   "cell_type": "markdown",
   "metadata": {
    "application/vnd.databricks.v1+cell": {
     "cellMetadata": {},
     "inputWidgets": {},
     "nuid": "7173c0cb-ab81-41db-bae3-23ad01501340",
     "showTitle": false,
     "tableResultSettingsMap": {},
     "title": ""
    }
   },
   "source": [
    "## Higher Order Functions\n",
    "\n",
    "  > - Higher Order Functions are functions that operate on complex data types such as arrays and maps\n",
    "  > - They allow you to pass functions as arguments (such as lambda expressions), apply transformations and return array or maps\n",
    "  > - They are extremely useful for manipulating arrays without exploding them\n"
   ]
  },
  {
   "cell_type": "markdown",
   "metadata": {
    "application/vnd.databricks.v1+cell": {
     "cellMetadata": {},
     "inputWidgets": {},
     "nuid": "7d2e0257-ee1d-492c-ac8e-4425d93ff769",
     "showTitle": false,
     "tableResultSettingsMap": {},
     "title": ""
    }
   },
   "source": [
    "### Commonly used Higher Order Array Functions\n",
    "- TRANSFORM\n",
    "- FILTER\n",
    "- EXISTS\n",
    "- AGGREGATE"
   ]
  },
  {
   "cell_type": "markdown",
   "metadata": {
    "application/vnd.databricks.v1+cell": {
     "cellMetadata": {},
     "inputWidgets": {},
     "nuid": "eddca406-fe7d-47cf-81c1-644b2dffa184",
     "showTitle": false,
     "tableResultSettingsMap": {},
     "title": ""
    }
   },
   "source": [
    "#### Syntax\n",
    "-----------------------------------------------------------------------------\n",
    "`<function_name> (array_column, lambda_expression)`\n",
    "   \n",
    "*lambda_expression*: `element -> expression`"
   ]
  },
  {
   "cell_type": "code",
   "execution_count": 0,
   "metadata": {
    "application/vnd.databricks.v1+cell": {
     "cellMetadata": {
      "byteLimit": 2048000,
      "rowLimit": 10000
     },
     "inputWidgets": {},
     "nuid": "8920a38b-f7b5-4400-b55b-2e91e60ec13f",
     "showTitle": false,
     "tableResultSettingsMap": {},
     "title": ""
    }
   },
   "outputs": [],
   "source": [
    "CREATE OR REPLACE TEMPORARY VIEW order_items AS \n",
    " SELECT * FROM VALUES\n",
    "  (1, array('smartphone', 'laptop', 'monitor')),\n",
    "  (2, array('tablet', 'headphones', 'smartwatch')),\n",
    "  (3, array('keyboard', 'mouse'))\n",
    " AS orders(order_id, items);"
   ]
  },
  {
   "cell_type": "code",
   "execution_count": 0,
   "metadata": {
    "application/vnd.databricks.v1+cell": {
     "cellMetadata": {
      "byteLimit": 2048000,
      "rowLimit": 10000
     },
     "inputWidgets": {},
     "nuid": "1d1cabc9-cdae-496a-b1b0-d9a5c9760c9f",
     "showTitle": false,
     "tableResultSettingsMap": {},
     "title": ""
    }
   },
   "outputs": [],
   "source": [
    "SELECT * FROM order_items;"
   ]
  },
  {
   "cell_type": "markdown",
   "metadata": {
    "application/vnd.databricks.v1+cell": {
     "cellMetadata": {},
     "inputWidgets": {},
     "nuid": "16340833-5236-487c-8780-36c2abf74c0d",
     "showTitle": false,
     "tableResultSettingsMap": {},
     "title": ""
    }
   },
   "source": [
    "#### 1. Convert all the item names to be UPPERCASE (TRANSFORM Function)"
   ]
  },
  {
   "cell_type": "code",
   "execution_count": 0,
   "metadata": {
    "application/vnd.databricks.v1+cell": {
     "cellMetadata": {
      "byteLimit": 2048000,
      "rowLimit": 10000
     },
     "inputWidgets": {},
     "nuid": "9bbff85f-054a-4624-a824-5cb6f9ccd04d",
     "showTitle": false,
     "tableResultSettingsMap": {},
     "title": ""
    }
   },
   "outputs": [],
   "source": [
    "SELECT order_id,\n",
    "  TRANSFORM(items, x -> UPPER(x)) AS upper_items\n",
    "  FROM order_items;"
   ]
  },
  {
   "cell_type": "markdown",
   "metadata": {
    "application/vnd.databricks.v1+cell": {
     "cellMetadata": {},
     "inputWidgets": {},
     "nuid": "45a8ea32-b3d7-4386-97e0-65aa74c6cd22",
     "showTitle": false,
     "tableResultSettingsMap": {},
     "title": ""
    }
   },
   "source": [
    "#### 2. Filter only items that contains the string 'smart' (FILTER Function)"
   ]
  },
  {
   "cell_type": "code",
   "execution_count": 0,
   "metadata": {
    "application/vnd.databricks.v1+cell": {
     "cellMetadata": {
      "byteLimit": 2048000,
      "rowLimit": 10000
     },
     "inputWidgets": {},
     "nuid": "7776197b-6469-48f3-a210-67307294cdbc",
     "showTitle": false,
     "tableResultSettingsMap": {},
     "title": ""
    }
   },
   "outputs": [],
   "source": [
    "SELECT order_id,\n",
    "  FILTER(items, x -> x LIKE '%smart%') AS smart_items\n",
    "  FROM order_items;"
   ]
  },
  {
   "cell_type": "markdown",
   "metadata": {
    "application/vnd.databricks.v1+cell": {
     "cellMetadata": {},
     "inputWidgets": {},
     "nuid": "7f5ad5c0-2c66-4025-908f-5a176e4f1dc9",
     "showTitle": false,
     "tableResultSettingsMap": {},
     "title": ""
    }
   },
   "source": [
    "#### Check to see whether the order includes any 'monitor' (EXISTS Function)"
   ]
  },
  {
   "cell_type": "code",
   "execution_count": 0,
   "metadata": {
    "application/vnd.databricks.v1+cell": {
     "cellMetadata": {
      "byteLimit": 2048000,
      "rowLimit": 10000
     },
     "inputWidgets": {},
     "nuid": "ec5b1d8e-ddc9-47be-87bd-c427f413a93b",
     "showTitle": false,
     "tableResultSettingsMap": {},
     "title": ""
    }
   },
   "outputs": [],
   "source": [
    "SELECT order_id,\n",
    "  EXISTS(items, x -> x = 'monitor') AS has_monitor\n",
    "  FROM order_items;"
   ]
  },
  {
   "cell_type": "markdown",
   "metadata": {
    "application/vnd.databricks.v1+cell": {
     "cellMetadata": {},
     "inputWidgets": {},
     "nuid": "bd586f80-82a0-4759-aef1-1141c18f00f3",
     "showTitle": false,
     "tableResultSettingsMap": {},
     "title": ""
    }
   },
   "source": [
    "### Array with more than one object"
   ]
  },
  {
   "cell_type": "code",
   "execution_count": 0,
   "metadata": {
    "application/vnd.databricks.v1+cell": {
     "cellMetadata": {
      "byteLimit": 2048000,
      "rowLimit": 10000
     },
     "inputWidgets": {},
     "nuid": "3545011d-1360-4b01-8009-f6766b29afb0",
     "showTitle": false,
     "tableResultSettingsMap": {},
     "title": ""
    }
   },
   "outputs": [],
   "source": [
    "CREATE OR REPLACE TEMPORARY VIEW order_items AS \n",
    " SELECT * FROM VALUES\n",
    "  (1, array(\n",
    "    named_struct('name', 'smartphone', 'price', 699), \n",
    "    named_struct('name', 'laptop', 'price', 1199),\n",
    "    named_struct('name', 'monitor', 'price', 399)\n",
    "    )),\n",
    "  (2, array(\n",
    "    named_struct('name', 'tablet', 'price', 599), \n",
    "    named_struct('name', 'headphones', 'price', 199), \n",
    "    named_struct('name', 'smartwatch', 'price', 299)\n",
    "    )),\n",
    "  (3, array(\n",
    "    named_struct('name', 'keyboard', 'price', 89), \n",
    "    named_struct('name', 'mouse', 'price', 59)\n",
    "    ))\n",
    " AS orders(order_id, items);"
   ]
  },
  {
   "cell_type": "code",
   "execution_count": 0,
   "metadata": {
    "application/vnd.databricks.v1+cell": {
     "cellMetadata": {
      "byteLimit": 2048000,
      "rowLimit": 10000
     },
     "inputWidgets": {},
     "nuid": "4a39d1ab-7440-41e5-ad9d-0a67e328b953",
     "showTitle": false,
     "tableResultSettingsMap": {},
     "title": ""
    }
   },
   "outputs": [],
   "source": [
    "SELECT * FROM order_items;"
   ]
  },
  {
   "cell_type": "markdown",
   "metadata": {
    "application/vnd.databricks.v1+cell": {
     "cellMetadata": {},
     "inputWidgets": {},
     "nuid": "f44b5056-a311-4659-a14a-33356df7c45b",
     "showTitle": false,
     "tableResultSettingsMap": {},
     "title": ""
    }
   },
   "source": [
    "#### 1. Convert all the items names to be UPPERCASE & Add 10% TAX to each item (TRANSFORM Function)"
   ]
  },
  {
   "cell_type": "code",
   "execution_count": 0,
   "metadata": {
    "application/vnd.databricks.v1+cell": {
     "cellMetadata": {
      "byteLimit": 2048000,
      "rowLimit": 10000
     },
     "inputWidgets": {},
     "nuid": "4fd13d08-e495-49f1-b24d-85fdee670a7c",
     "showTitle": false,
     "tableResultSettingsMap": {},
     "title": ""
    }
   },
   "outputs": [],
   "source": [
    "SELECT order_id,\n",
    "  TRANSFORM(items, x -> named_struct(\n",
    "                                      'name', UPPER(x.name),\n",
    "                                      'price', ROUND(x.price * 1.10, 2))) AS item_name\n",
    "  FROM order_items;"
   ]
  },
  {
   "cell_type": "markdown",
   "metadata": {
    "application/vnd.databricks.v1+cell": {
     "cellMetadata": {},
     "inputWidgets": {},
     "nuid": "8d43e524-a56c-431d-81a2-cdd52ca08172",
     "showTitle": false,
     "tableResultSettingsMap": {},
     "title": ""
    }
   },
   "source": [
    "#### 2. Calculate the total order amount for each of the orders (AGGREGATE Function)"
   ]
  },
  {
   "cell_type": "code",
   "execution_count": 0,
   "metadata": {
    "application/vnd.databricks.v1+cell": {
     "cellMetadata": {
      "byteLimit": 2048000,
      "rowLimit": 10000
     },
     "inputWidgets": {},
     "nuid": "db62eb61-52c6-46e0-935f-38def43c9cf2",
     "showTitle": false,
     "tableResultSettingsMap": {},
     "title": ""
    }
   },
   "outputs": [],
   "source": [
    "SELECT order_id,\n",
    "  AGGREGATE(items, 0, (acc, x) -> acc + x.price) AS total_amount\n",
    "  FROM order_items;"
   ]
  },
  {
   "cell_type": "markdown",
   "metadata": {
    "application/vnd.databricks.v1+cell": {
     "cellMetadata": {},
     "inputWidgets": {},
     "nuid": "dbe2aed0-231d-43a3-bb98-8fe4388081a9",
     "showTitle": false,
     "tableResultSettingsMap": {},
     "title": ""
    }
   },
   "source": [
    "## Map Functions\n",
    "\n",
    "A map is a collection of key-value pairs, like a dictionary\n",
    "\n",
    "`{'laptop': 1200, 'phone': 699}`\n"
   ]
  },
  {
   "cell_type": "markdown",
   "metadata": {
    "application/vnd.databricks.v1+cell": {
     "cellMetadata": {},
     "inputWidgets": {},
     "nuid": "e2c2bc21-ceab-4079-a4a5-5f32cf10146d",
     "showTitle": false,
     "tableResultSettingsMap": {},
     "title": ""
    }
   },
   "source": [
    "### Commonly used Higher Order Map Functions\n",
    "- TRANSFORM_VALUES\n",
    "- TRANSFORM_KEYS\n",
    "- MAP_FILTER"
   ]
  },
  {
   "cell_type": "markdown",
   "metadata": {
    "application/vnd.databricks.v1+cell": {
     "cellMetadata": {},
     "inputWidgets": {},
     "nuid": "22a5332a-38eb-4795-9d1f-57a51354b698",
     "showTitle": false,
     "tableResultSettingsMap": {},
     "title": ""
    }
   },
   "source": [
    "#### Syntax\n",
    "-----------------------------------------------------------------------------\n",
    "`<function_name> (map_column, lambda_expression)`\n",
    "   \n",
    "*lambda_expression*: `(key, value) -> expression`"
   ]
  },
  {
   "cell_type": "code",
   "execution_count": 0,
   "metadata": {
    "application/vnd.databricks.v1+cell": {
     "cellMetadata": {
      "byteLimit": 2048000,
      "rowLimit": 10000
     },
     "inputWidgets": {},
     "nuid": "bc8f857d-0c28-47a1-a403-081ccb022c46",
     "showTitle": false,
     "tableResultSettingsMap": {},
     "title": ""
    }
   },
   "outputs": [],
   "source": [
    "CREATE OR REPLACE TEMPORARY VIEW order_item_prices AS \n",
    " SELECT * FROM VALUES\n",
    "  (1, map('smartphone', 699, 'laptop', 1199, 'monitor', 399)),\n",
    "  (2, map('tablet', 599, 'headphones', 199, 'smartwatch', 299)),\n",
    "  (3, map('keyboard', 89, 'mouse', 59))\n",
    " AS orders(order_id, item_prices);"
   ]
  },
  {
   "cell_type": "code",
   "execution_count": 0,
   "metadata": {
    "application/vnd.databricks.v1+cell": {
     "cellMetadata": {
      "byteLimit": 2048000,
      "rowLimit": 10000
     },
     "inputWidgets": {},
     "nuid": "d9daf42a-ef0e-4a52-aeab-3baff52814fe",
     "showTitle": false,
     "tableResultSettingsMap": {},
     "title": ""
    }
   },
   "outputs": [],
   "source": [
    "SELECT * FROM order_item_prices"
   ]
  },
  {
   "cell_type": "markdown",
   "metadata": {
    "application/vnd.databricks.v1+cell": {
     "cellMetadata": {},
     "inputWidgets": {},
     "nuid": "3792d211-5684-4fb7-a5b1-1f66ca900125",
     "showTitle": false,
     "tableResultSettingsMap": {},
     "title": ""
    }
   },
   "source": [
    "#### 1. Convert all the item names to be UPPERCASE (TRANSFORM_KEYS Function)"
   ]
  },
  {
   "cell_type": "code",
   "execution_count": 0,
   "metadata": {
    "application/vnd.databricks.v1+cell": {
     "cellMetadata": {
      "byteLimit": 2048000,
      "rowLimit": 10000
     },
     "inputWidgets": {},
     "nuid": "341f5cf0-553b-4284-96aa-fca29d8efe54",
     "showTitle": false,
     "tableResultSettingsMap": {},
     "title": ""
    }
   },
   "outputs": [],
   "source": [
    "SELECT order_id,\n",
    "       TRANSFORM_KEYS(item_prices, (k, v) -> UPPER(k)) AS items_upper_case\n",
    " FROM order_item_prices"
   ]
  },
  {
   "cell_type": "markdown",
   "metadata": {
    "application/vnd.databricks.v1+cell": {
     "cellMetadata": {},
     "inputWidgets": {},
     "nuid": "73976943-cd0e-455e-afba-99ff30c6edf4",
     "showTitle": false,
     "tableResultSettingsMap": {},
     "title": ""
    }
   },
   "source": [
    "#### 2. Apply 10% TAX to item prices (TRANSFORM_VALUES Function)"
   ]
  },
  {
   "cell_type": "code",
   "execution_count": 0,
   "metadata": {
    "application/vnd.databricks.v1+cell": {
     "cellMetadata": {
      "byteLimit": 2048000,
      "rowLimit": 10000
     },
     "inputWidgets": {},
     "nuid": "78df5e84-86a6-4ca0-accb-287a48e73fe4",
     "showTitle": false,
     "tableResultSettingsMap": {},
     "title": ""
    }
   },
   "outputs": [],
   "source": [
    "SELECT order_id,\n",
    "       TRANSFORM_VALUES(item_prices, (k, v) -> ROUND(v * 1.10, 2)) AS prices_with_tax\n",
    " FROM order_item_prices"
   ]
  },
  {
   "cell_type": "markdown",
   "metadata": {
    "application/vnd.databricks.v1+cell": {
     "cellMetadata": {},
     "inputWidgets": {},
     "nuid": "3e227bc7-7379-4b67-a4c6-42aae3a34d49",
     "showTitle": false,
     "tableResultSettingsMap": {},
     "title": ""
    }
   },
   "source": [
    "#### 3. Filter only items with price above $500 (MAP FILTER Function)"
   ]
  },
  {
   "cell_type": "code",
   "execution_count": 0,
   "metadata": {
    "application/vnd.databricks.v1+cell": {
     "cellMetadata": {
      "byteLimit": 2048000,
      "rowLimit": 10000
     },
     "inputWidgets": {},
     "nuid": "07eab49a-87ce-49c9-b322-617a21da6887",
     "showTitle": false,
     "tableResultSettingsMap": {},
     "title": ""
    }
   },
   "outputs": [],
   "source": [
    "SELECT order_id,\n",
    "       MAP_FILTER(item_prices, (k, v) -> v > 500) AS items_above_500\n",
    " FROM order_item_prices"
   ]
  },
  {
   "cell_type": "code",
   "execution_count": 0,
   "metadata": {
    "application/vnd.databricks.v1+cell": {
     "cellMetadata": {},
     "inputWidgets": {},
     "nuid": "28a16f60-a49f-4e47-87e5-980bf4fab9a2",
     "showTitle": false,
     "tableResultSettingsMap": {},
     "title": ""
    }
   },
   "outputs": [],
   "source": []
  }
 ],
 "metadata": {
  "application/vnd.databricks.v1+notebook": {
   "computePreferences": null,
   "dashboards": [],
   "environmentMetadata": {
    "base_environment": "",
    "environment_version": "2"
   },
   "inputWidgetPreferences": null,
   "language": "sql",
   "notebookMetadata": {},
   "notebookName": "21. Higher Order Functions",
   "widgets": {}
  },
  "language_info": {
   "name": "sql"
  }
 },
 "nbformat": 4,
 "nbformat_minor": 0
}
