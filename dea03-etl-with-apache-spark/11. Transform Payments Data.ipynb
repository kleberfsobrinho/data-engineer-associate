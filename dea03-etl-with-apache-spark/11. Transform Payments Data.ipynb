{
 "cells": [
  {
   "cell_type": "markdown",
   "metadata": {
    "application/vnd.databricks.v1+cell": {
     "cellMetadata": {
      "byteLimit": 2048000,
      "rowLimit": 10000
     },
     "inputWidgets": {},
     "nuid": "b6c4a522-e489-49c4-b552-d414f05a431c",
     "showTitle": false,
     "tableResultSettingsMap": {},
     "title": ""
    }
   },
   "source": [
    "## Transform Payments Data\n",
    "1. Extract Date and Time from payment_timestamp and create new columns payment_date and payment_time\n",
    "1. Map payment_status to contain descriptive values  \n",
    "   (1-Success, 2-Pending, 3-Cancelled, 4-Failed)\n",
    "1. Write transformed data to the Silver schema "
   ]
  },
  {
   "cell_type": "code",
   "execution_count": 0,
   "metadata": {
    "application/vnd.databricks.v1+cell": {
     "cellMetadata": {
      "byteLimit": 2048000,
      "rowLimit": 10000
     },
     "inputWidgets": {},
     "nuid": "71818c70-dd7a-4688-ae34-2c3772ce3f2f",
     "showTitle": false,
     "tableResultSettingsMap": {},
     "title": ""
    }
   },
   "outputs": [],
   "source": [
    "SELECT * \n",
    "FROM gizmobox.bronze.payments;"
   ]
  },
  {
   "cell_type": "markdown",
   "metadata": {
    "application/vnd.databricks.v1+cell": {
     "cellMetadata": {
      "byteLimit": 2048000,
      "rowLimit": 10000
     },
     "inputWidgets": {},
     "nuid": "76da85a4-1364-4ebd-87d6-e6ee32bf52eb",
     "showTitle": false,
     "tableResultSettingsMap": {},
     "title": ""
    }
   },
   "source": [
    "### 1. Extract Date and Time from payment_timestamp\n",
    ">  [Documentation for date_format function](https://learn.microsoft.com/en-us/azure/databricks/sql/language-manual/functions/date_format)"
   ]
  },
  {
   "cell_type": "code",
   "execution_count": 0,
   "metadata": {
    "application/vnd.databricks.v1+cell": {
     "cellMetadata": {
      "byteLimit": 2048000,
      "rowLimit": 10000
     },
     "inputWidgets": {},
     "nuid": "c0880704-f13d-464a-81d8-41e0d56baf89",
     "showTitle": false,
     "tableResultSettingsMap": {},
     "title": ""
    }
   },
   "outputs": [],
   "source": [
    "SELECT payment_id,\n",
    "       order_id,\n",
    "       CAST(date_format(payment_timestamp, 'yyyy-MM-dd') AS DATE) AS payment_date,\n",
    "       date_format(payment_timestamp, 'HH:mm:ss') AS payment_time,\n",
    "       payment_status,\n",
    "       payment_method\n",
    "FROM gizmobox.bronze.payments;"
   ]
  },
  {
   "cell_type": "markdown",
   "metadata": {
    "application/vnd.databricks.v1+cell": {
     "cellMetadata": {},
     "inputWidgets": {},
     "nuid": "a61b2628-d0ed-40f8-bb81-247c9368f5ce",
     "showTitle": false,
     "tableResultSettingsMap": {},
     "title": ""
    }
   },
   "source": [
    "### 2. Map payment_status to contain descriptive values  \n",
    "   (1-Success, 2-Pending, 3-Cancelled, 4-Failed)"
   ]
  },
  {
   "cell_type": "code",
   "execution_count": 0,
   "metadata": {
    "application/vnd.databricks.v1+cell": {
     "cellMetadata": {
      "byteLimit": 2048000,
      "rowLimit": 10000
     },
     "inputWidgets": {},
     "nuid": "d5ba6459-f6ad-47b4-a116-75cd9a592391",
     "showTitle": false,
     "tableResultSettingsMap": {},
     "title": ""
    }
   },
   "outputs": [],
   "source": [
    "SELECT payment_id,\n",
    "       order_id,\n",
    "       CAST(date_format(payment_timestamp, 'yyyy-MM-dd') AS DATE) AS payment_date,\n",
    "       date_format(payment_timestamp, 'HH:mm:ss') AS payment_time,\n",
    "       CASE payment_status\n",
    "        WHEN 1 THEN 'Success'\n",
    "        WHEN 2 THEN 'Pending'\n",
    "        WHEN 3 THEN 'Cancelled'\n",
    "        WHEN 4 THEN 'Failed'\n",
    "       END AS payment_status,\n",
    "       payment_method\n",
    "FROM gizmobox.bronze.payments;"
   ]
  },
  {
   "cell_type": "code",
   "execution_count": 0,
   "metadata": {
    "application/vnd.databricks.v1+cell": {
     "cellMetadata": {
      "byteLimit": 2048000,
      "rowLimit": 10000
     },
     "inputWidgets": {},
     "nuid": "c82d330c-ef64-4668-bb74-c0d1f4642b14",
     "showTitle": false,
     "tableResultSettingsMap": {},
     "title": ""
    }
   },
   "outputs": [],
   "source": [
    "CREATE TABLE gizmobox.silver.payments\n",
    "AS\n",
    "SELECT payment_id,\n",
    "       order_id,\n",
    "       CAST(date_format(payment_timestamp, 'yyyy-MM-dd') AS DATE) AS payment_date,\n",
    "       date_format(payment_timestamp, 'HH:mm:ss') AS payment_time,\n",
    "       CASE payment_status\n",
    "        WHEN 1 THEN 'Success'\n",
    "        WHEN 2 THEN 'Pending'\n",
    "        WHEN 3 THEN 'Cancelled'\n",
    "        WHEN 4 THEN 'Failed'\n",
    "       END AS payment_status,\n",
    "       payment_method\n",
    "FROM gizmobox.bronze.payments;"
   ]
  },
  {
   "cell_type": "code",
   "execution_count": 0,
   "metadata": {
    "application/vnd.databricks.v1+cell": {
     "cellMetadata": {
      "byteLimit": 2048000,
      "rowLimit": 10000
     },
     "inputWidgets": {},
     "nuid": "bd3812b6-ffc6-4ca5-b568-f21405f3595b",
     "showTitle": false,
     "tableResultSettingsMap": {},
     "title": ""
    }
   },
   "outputs": [],
   "source": [
    "SELECT * FROM gizmobox.silver.payments"
   ]
  },
  {
   "cell_type": "code",
   "execution_count": 0,
   "metadata": {
    "application/vnd.databricks.v1+cell": {
     "cellMetadata": {},
     "inputWidgets": {},
     "nuid": "c844a5a3-e2cd-4821-b816-4efc01f41dbf",
     "showTitle": false,
     "tableResultSettingsMap": {},
     "title": ""
    }
   },
   "outputs": [],
   "source": []
  }
 ],
 "metadata": {
  "application/vnd.databricks.v1+notebook": {
   "computePreferences": null,
   "dashboards": [],
   "environmentMetadata": {
    "base_environment": "",
    "environment_version": "2"
   },
   "inputWidgetPreferences": null,
   "language": "sql",
   "notebookMetadata": {
    "pythonIndentUnit": 4
   },
   "notebookName": "11. Transform Payments Data",
   "widgets": {}
  },
  "language_info": {
   "name": "sql"
  }
 },
 "nbformat": 4,
 "nbformat_minor": 0
}
